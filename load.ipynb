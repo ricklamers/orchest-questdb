{
 "cells": [
  {
   "cell_type": "code",
   "execution_count": 1,
   "metadata": {},
   "outputs": [],
   "source": [
    "import io\n",
    "\n",
    "import orchest\n",
    "import pandas as pd\n",
    "import requests"
   ]
  },
  {
   "cell_type": "code",
   "execution_count": 2,
   "metadata": {},
   "outputs": [],
   "source": [
    "questdb_rest_endpoint = \"http://%s:9000\" % orchest.get_service(\"questdb\")['internal_hostname']"
   ]
  },
  {
   "cell_type": "code",
   "execution_count": 3,
   "metadata": {},
   "outputs": [
    {
     "data": {
      "text/plain": [
       "'http://service-questdb-53e38127-cae148f8:9000'"
      ]
     },
     "execution_count": 3,
     "metadata": {},
     "output_type": "execute_result"
    }
   ],
   "source": [
    "questdb_rest_endpoint"
   ]
  },
  {
   "cell_type": "code",
   "execution_count": 4,
   "metadata": {},
   "outputs": [],
   "source": [
    "import_endpoint = questdb_rest_endpoint + \"/imp?overwrite=true&name=new_table&timestamp=Date&partitionBy=MONTH\""
   ]
  },
  {
   "cell_type": "code",
   "execution_count": 5,
   "metadata": {},
   "outputs": [],
   "source": [
    "# Sample dataset of the https://github.com/jenfly/opsd project\n",
    "data_url = \"https://raw.githubusercontent.com/jenfly/opsd/master/opsd_germany_daily.csv\""
   ]
  },
  {
   "cell_type": "code",
   "execution_count": 6,
   "metadata": {},
   "outputs": [
    {
     "name": "stdout",
     "output_type": "stream",
     "text": [
      "+-----------------------------------------------------------------------------------------------------------------+\r\n",
      "|      Location:  |                                         new_table  |        Pattern  | Locale  |      Errors  |\r\n",
      "|   Partition by  |                                             MONTH  |                 |         |              |\r\n",
      "|      Timestamp  |                                              NONE  |                 |         |              |\r\n",
      "+-----------------------------------------------------------------------------------------------------------------+\r\n",
      "|   Rows handled  |                                              4383  |                 |         |              |\r\n",
      "|  Rows imported  |                                              4383  |                 |         |              |\r\n",
      "+-----------------------------------------------------------------------------------------------------------------+\r\n",
      "|              0  |                                              Date  |                TIMESTAMP  |           0  |\r\n",
      "|              1  |                                       Consumption  |                   DOUBLE  |           0  |\r\n",
      "|              2  |                                              Wind  |                   STRING  |           0  |\r\n",
      "|              3  |                                             Solar  |                   STRING  |           0  |\r\n",
      "|              4  |                                         WindSolar  |                   STRING  |           0  |\r\n",
      "+-----------------------------------------------------------------------------------------------------------------+\r\n",
      "\n"
     ]
    }
   ],
   "source": [
    "r = requests.get(data_url)\n",
    "\n",
    "upload_r = requests.post(import_endpoint, files={\"data\": r.content.decode(\"utf-8\")}, data={\"schema\": '[{\"name\":\"Date\", \"type\": \"TIMESTAMP\", \"pattern\": \"yyyy-MM-dd\"}]'})\n",
    "print(upload_r.content.decode(\"utf-8\"))"
   ]
  }
 ],
 "metadata": {
  "kernelspec": {
   "display_name": "Python 3",
   "language": "python",
   "name": "orchest-kernel-c57ee225-fb2a-4458-8e92-d81b29210633"
  },
  "language_info": {
   "codemirror_mode": {
    "name": "ipython",
    "version": 3
   },
   "file_extension": ".py",
   "mimetype": "text/x-python",
   "name": "python",
   "nbconvert_exporter": "python",
   "pygments_lexer": "ipython3",
   "version": "3.7.6"
  }
 },
 "nbformat": 4,
 "nbformat_minor": 4
}
