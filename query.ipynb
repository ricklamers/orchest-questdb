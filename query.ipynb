{
 "cells": [
  {
   "cell_type": "code",
   "execution_count": 1,
   "id": "e33f5e32-5009-4e8d-bffa-e8338afd738d",
   "metadata": {},
   "outputs": [],
   "source": [
    "import io\n",
    "\n",
    "import orchest\n",
    "import pandas as pd\n",
    "import requests"
   ]
  },
  {
   "cell_type": "code",
   "execution_count": 2,
   "id": "415a48e5-cb2a-42b0-9ac7-ddfe4a7c4f5b",
   "metadata": {},
   "outputs": [],
   "source": [
    "questdb_rest_endpoint = \"http://%s:9000\" % orchest.get_service(\"questdb\")['internal_hostname']"
   ]
  },
  {
   "cell_type": "code",
   "execution_count": 3,
   "id": "37c2eed4-cf08-4f3f-85dd-ae4e8d8cb6db",
   "metadata": {},
   "outputs": [
    {
     "data": {
      "text/plain": [
       "'http://service-questdb-53e38127-cae148f8:9000'"
      ]
     },
     "execution_count": 3,
     "metadata": {},
     "output_type": "execute_result"
    }
   ],
   "source": [
    "questdb_rest_endpoint"
   ]
  },
  {
   "cell_type": "code",
   "execution_count": 4,
   "id": "207061b8-8309-42a3-89b9-af9d5905aa56",
   "metadata": {},
   "outputs": [],
   "source": [
    "exec_endpoint = questdb_rest_endpoint + \"/exec\""
   ]
  },
  {
   "cell_type": "code",
   "execution_count": 5,
   "id": "0b5c8afa-6daa-4403-879a-9088edf3a96b",
   "metadata": {},
   "outputs": [],
   "source": [
    "upload_r = requests.get(exec_endpoint + \"?query=\" + \"SELECT * FROM new_table;\")\n",
    "data = upload_r.json()"
   ]
  },
  {
   "cell_type": "code",
   "execution_count": 6,
   "id": "d7ba6a84-17ee-4714-9f3d-054739816c66",
   "metadata": {},
   "outputs": [
    {
     "data": {
      "text/html": [
       "<div>\n",
       "<style scoped>\n",
       "    .dataframe tbody tr th:only-of-type {\n",
       "        vertical-align: middle;\n",
       "    }\n",
       "\n",
       "    .dataframe tbody tr th {\n",
       "        vertical-align: top;\n",
       "    }\n",
       "\n",
       "    .dataframe thead th {\n",
       "        text-align: right;\n",
       "    }\n",
       "</style>\n",
       "<table border=\"1\" class=\"dataframe\">\n",
       "  <thead>\n",
       "    <tr style=\"text-align: right;\">\n",
       "      <th></th>\n",
       "      <th>Date</th>\n",
       "      <th>Consumption</th>\n",
       "      <th>Wind</th>\n",
       "      <th>Solar</th>\n",
       "      <th>WindSolar</th>\n",
       "    </tr>\n",
       "  </thead>\n",
       "  <tbody>\n",
       "    <tr>\n",
       "      <th>0</th>\n",
       "      <td>2006-01-01T00:00:00.000000Z</td>\n",
       "      <td>1069.18400</td>\n",
       "      <td>None</td>\n",
       "      <td>None</td>\n",
       "      <td>None</td>\n",
       "    </tr>\n",
       "    <tr>\n",
       "      <th>1</th>\n",
       "      <td>2006-01-02T00:00:00.000000Z</td>\n",
       "      <td>1380.52100</td>\n",
       "      <td>None</td>\n",
       "      <td>None</td>\n",
       "      <td>None</td>\n",
       "    </tr>\n",
       "    <tr>\n",
       "      <th>2</th>\n",
       "      <td>2006-01-03T00:00:00.000000Z</td>\n",
       "      <td>1442.53300</td>\n",
       "      <td>None</td>\n",
       "      <td>None</td>\n",
       "      <td>None</td>\n",
       "    </tr>\n",
       "    <tr>\n",
       "      <th>3</th>\n",
       "      <td>2006-01-04T00:00:00.000000Z</td>\n",
       "      <td>1457.21700</td>\n",
       "      <td>None</td>\n",
       "      <td>None</td>\n",
       "      <td>None</td>\n",
       "    </tr>\n",
       "    <tr>\n",
       "      <th>4</th>\n",
       "      <td>2006-01-05T00:00:00.000000Z</td>\n",
       "      <td>1477.13100</td>\n",
       "      <td>None</td>\n",
       "      <td>None</td>\n",
       "      <td>None</td>\n",
       "    </tr>\n",
       "    <tr>\n",
       "      <th>...</th>\n",
       "      <td>...</td>\n",
       "      <td>...</td>\n",
       "      <td>...</td>\n",
       "      <td>...</td>\n",
       "      <td>...</td>\n",
       "    </tr>\n",
       "    <tr>\n",
       "      <th>4378</th>\n",
       "      <td>2017-12-27T00:00:00.000000Z</td>\n",
       "      <td>1263.94091</td>\n",
       "      <td>394.50699999999995</td>\n",
       "      <td>16.53</td>\n",
       "      <td>411.0369999999999</td>\n",
       "    </tr>\n",
       "    <tr>\n",
       "      <th>4379</th>\n",
       "      <td>2017-12-28T00:00:00.000000Z</td>\n",
       "      <td>1299.86398</td>\n",
       "      <td>506.424</td>\n",
       "      <td>14.161999999999999</td>\n",
       "      <td>520.586</td>\n",
       "    </tr>\n",
       "    <tr>\n",
       "      <th>4380</th>\n",
       "      <td>2017-12-29T00:00:00.000000Z</td>\n",
       "      <td>1295.08753</td>\n",
       "      <td>584.277</td>\n",
       "      <td>29.854000000000003</td>\n",
       "      <td>614.1309999999999</td>\n",
       "    </tr>\n",
       "    <tr>\n",
       "      <th>4381</th>\n",
       "      <td>2017-12-30T00:00:00.000000Z</td>\n",
       "      <td>1215.44897</td>\n",
       "      <td>721.2470000000001</td>\n",
       "      <td>7.4670000000000005</td>\n",
       "      <td>728.714</td>\n",
       "    </tr>\n",
       "    <tr>\n",
       "      <th>4382</th>\n",
       "      <td>2017-12-31T00:00:00.000000Z</td>\n",
       "      <td>1107.11488</td>\n",
       "      <td>721.1760000000002</td>\n",
       "      <td>19.979999999999997</td>\n",
       "      <td>741.156</td>\n",
       "    </tr>\n",
       "  </tbody>\n",
       "</table>\n",
       "<p>4383 rows × 5 columns</p>\n",
       "</div>"
      ],
      "text/plain": [
       "                             Date  Consumption                Wind  \\\n",
       "0     2006-01-01T00:00:00.000000Z   1069.18400                None   \n",
       "1     2006-01-02T00:00:00.000000Z   1380.52100                None   \n",
       "2     2006-01-03T00:00:00.000000Z   1442.53300                None   \n",
       "3     2006-01-04T00:00:00.000000Z   1457.21700                None   \n",
       "4     2006-01-05T00:00:00.000000Z   1477.13100                None   \n",
       "...                           ...          ...                 ...   \n",
       "4378  2017-12-27T00:00:00.000000Z   1263.94091  394.50699999999995   \n",
       "4379  2017-12-28T00:00:00.000000Z   1299.86398             506.424   \n",
       "4380  2017-12-29T00:00:00.000000Z   1295.08753             584.277   \n",
       "4381  2017-12-30T00:00:00.000000Z   1215.44897   721.2470000000001   \n",
       "4382  2017-12-31T00:00:00.000000Z   1107.11488   721.1760000000002   \n",
       "\n",
       "                   Solar          WindSolar  \n",
       "0                   None               None  \n",
       "1                   None               None  \n",
       "2                   None               None  \n",
       "3                   None               None  \n",
       "4                   None               None  \n",
       "...                  ...                ...  \n",
       "4378               16.53  411.0369999999999  \n",
       "4379  14.161999999999999            520.586  \n",
       "4380  29.854000000000003  614.1309999999999  \n",
       "4381  7.4670000000000005            728.714  \n",
       "4382  19.979999999999997            741.156  \n",
       "\n",
       "[4383 rows x 5 columns]"
      ]
     },
     "execution_count": 6,
     "metadata": {},
     "output_type": "execute_result"
    }
   ],
   "source": [
    "pd.DataFrame(data['dataset'], columns=[column['name'] for column in data['columns']])"
   ]
  }
 ],
 "metadata": {
  "kernelspec": {
   "display_name": "Python 3",
   "language": "python",
   "name": "orchest-kernel-c57ee225-fb2a-4458-8e92-d81b29210633"
  },
  "language_info": {
   "codemirror_mode": {
    "name": "ipython",
    "version": 3
   },
   "file_extension": ".py",
   "mimetype": "text/x-python",
   "name": "python",
   "nbconvert_exporter": "python",
   "pygments_lexer": "ipython3",
   "version": "3.7.6"
  }
 },
 "nbformat": 4,
 "nbformat_minor": 5
}
